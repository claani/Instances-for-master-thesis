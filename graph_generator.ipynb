{
 "cells": [
  {
   "cell_type": "code",
   "execution_count": 135,
   "metadata": {},
   "outputs": [],
   "source": [
    "\n",
    "import numpy as np\n",
    "import matplotlib.pyplot as plt\n",
    "from scipy.spatial import Delaunay\n"
   ]
  },
  {
   "cell_type": "code",
   "execution_count": 136,
   "metadata": {},
   "outputs": [],
   "source": [
    "def euclidean_dist(u,v):\n",
    "    dis=pow((u[0]-v[0]),2)+pow((u[1]-v[1]),2)\n",
    "    return np.sqrt(dis)\n",
    "def euclidean_dist_square(u,v):\n",
    "    dis=pow((u[0]-v[0]),2)+pow((u[1]-v[1]),2)\n",
    "    return dis"
   ]
  },
  {
   "cell_type": "code",
   "execution_count": 137,
   "metadata": {},
   "outputs": [],
   "source": [
    "def wirte_file1(n,i,edge_list,points):\n",
    "    capacity=0\n",
    "    with open(\"tri_graph_\"+str(n)+\"_\"+str(i)+\"_euclidean_dist\"+\".gph\",\"w+\") as f:\n",
    "        for i in range(0,n):\n",
    "            f.write(\"V \"+str(i)+\"\\n\")\n",
    "        for (u,v) in edge_list:\n",
    "            f.write(\"E \"+str(u)+\" \"+str(v)+\" \"+format(euclidean_dist(points[u],points[v]),'.3f')+\"\\n\")\n",
    "        for i in range(1,n-1):\n",
    "            demand=np.random.rand()\n",
    "            f.write(\"D \"+str(i) +\" \"+str(demand)+\"\\n\")\n",
    "            capacity=capacity+demand\n",
    "        f.write(\"Q \"+str(capacity/2))\n",
    "def wirte_file2(n,i,edge_list,points):\n",
    "    capacity=0\n",
    "    with open(\"tri_graph_\"+str(n)+\"_\"+str(i)+\"_euclidean_dist_square\"+\".gph\",\"w+\") as f:\n",
    "        for i in range(0,n):\n",
    "            f.write(\"V \"+str(i)+\"\\n\")\n",
    "        for (u,v) in edge_list:\n",
    "            f.write(\"E \"+str(u)+\" \"+str(v)+\" \"+format(euclidean_dist_square(points[u],points[v]),'.3f')+\"\\n\")\n",
    "        for i in range(1,n-1):\n",
    "            demand=np.random.rand()\n",
    "            f.write(\"D \"+str(i) +\" \"+str(demand)+\"\\n\")\n",
    "            capacity=capacity+demand\n",
    "        f.write(\"Q \"+str(capacity/2))\n",
    "\n"
   ]
  },
  {
   "cell_type": "code",
   "execution_count": 138,
   "metadata": {},
   "outputs": [],
   "source": [
    "n=100000\n",
    "for k in range(1,5):\n",
    "# Generate some random points as an example\n",
    "    np.random.seed(2*k)\n",
    "    points = 100*np.random.rand(n, 2)\n",
    "\n",
    "    # Perform Delaunay triangulation\n",
    "    triangulation = Delaunay(points)\n",
    "\n",
    "    # Get the edge set\n",
    "    edges = set()\n",
    "\n",
    "    for simplex in triangulation.simplices:\n",
    "        # Iterate over all edges of the simplex (triangle)\n",
    "        for i in range(3):\n",
    "            # Ensure that the edge is sorted in ascending order to avoid duplicates\n",
    "            edge = tuple(sorted([simplex[i], simplex[(i + 1) % 3]]))\n",
    "            edges.add(edge)\n",
    "\n",
    "    # Convert the set to a list for easier handling if needed\n",
    "    edge_list = list(edges)\n",
    "    wirte_file1(n,k,edge_list,points)\n",
    "    wirte_file2(n,k,edge_list,points)\n"
   ]
  }
 ],
 "metadata": {
  "kernelspec": {
   "display_name": "opti2",
   "language": "python",
   "name": "python3"
  },
  "language_info": {
   "codemirror_mode": {
    "name": "ipython",
    "version": 3
   },
   "file_extension": ".py",
   "mimetype": "text/x-python",
   "name": "python",
   "nbconvert_exporter": "python",
   "pygments_lexer": "ipython3",
   "version": "3.10.4"
  }
 },
 "nbformat": 4,
 "nbformat_minor": 2
}
